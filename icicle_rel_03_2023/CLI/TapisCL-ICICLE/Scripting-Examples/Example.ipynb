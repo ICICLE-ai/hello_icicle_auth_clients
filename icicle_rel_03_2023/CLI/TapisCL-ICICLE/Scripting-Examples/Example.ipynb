{
 "cells": [
  {
   "cell_type": "code",
   "execution_count": null,
   "metadata": {},
   "outputs": [],
   "source": [
    "from TapisCLICICLE.tapisObjectWrappers import Pods, Systems, Files, Apps\n",
    "from tapipy.tapis import Tapis"
   ]
  },
  {
   "cell_type": "code",
   "execution_count": null,
   "metadata": {},
   "outputs": [],
   "source": [
    "link = \"insert your Tapis service link here\"\n",
    "username = \"enter your Tapis username here\"\n",
    "password = \"enter your Tapis password here (USE GETPASS, STAY SECURE!!!!)\""
   ]
  },
  {
   "cell_type": "code",
   "execution_count": null,
   "metadata": {},
   "outputs": [],
   "source": [
    "t = Tapis(\n",
    "            base_url=link,\n",
    "            username=username,\n",
    "            password=password\n",
    "        )"
   ]
  },
  {
   "cell_type": "code",
   "execution_count": null,
   "metadata": {},
   "outputs": [],
   "source": [
    "pods = Pods(t, username, password)\n",
    "systems = Systems(t, username, password)\n",
    "files = Files(t, username, password)\n",
    "apps = Apps(t, username, password)"
   ]
  },
  {
   "cell_type": "code",
   "execution_count": null,
   "metadata": {},
   "outputs": [],
   "source": [
    "print(pods.get_pods())"
   ]
  },
  {
   "cell_type": "code",
   "execution_count": null,
   "metadata": {},
   "outputs": [],
   "source": [
    "print(pods.create_pod(description=\"description\", template=\"template\", id=\"id\"))"
   ]
  },
  {
   "cell_type": "code",
   "execution_count": null,
   "metadata": {},
   "outputs": [],
   "source": [
    "systems.create_system(r\"file path\")"
   ]
  },
  {
   "cell_type": "code",
   "execution_count": null,
   "metadata": {},
   "outputs": [],
   "source": [
    "files.download(file=r\"source_path,destination_path\", id=\"system_id\")"
   ]
  }
 ],
 "metadata": {
  "language_info": {
   "name": "python"
  },
  "orig_nbformat": 4
 },
 "nbformat": 4,
 "nbformat_minor": 2
}
